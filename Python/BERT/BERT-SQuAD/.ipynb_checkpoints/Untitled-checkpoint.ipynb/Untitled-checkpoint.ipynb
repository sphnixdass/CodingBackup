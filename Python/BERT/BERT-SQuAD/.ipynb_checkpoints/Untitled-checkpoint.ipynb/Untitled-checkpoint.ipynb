{
 "cells": [
  {
   "cell_type": "code",
   "execution_count": 1,
   "id": "1bf2b6b8",
   "metadata": {},
   "outputs": [
    {
     "name": "stdout",
     "output_type": "stream",
     "text": [
      "late 1990s\n",
      "dict_keys(['answer', 'start', 'end', 'confidence', 'document'])\n"
     ]
    }
   ],
   "source": [
    "from bert import QA\n",
    "\n",
    "model = QA('model')\n",
    "\n",
    "#doc = \"Victoria has a written constitution enacted in 1975, but based on the 1855 colonial constitution, passed by the United Kingdom Parliament as the Victoria Constitution Act 1855, which establishes the Parliament as the state's law-making body for matters coming under state responsibility. The Victorian Constitution can be amended by the Parliament of Victoria, except for certain 'entrenched' provisions that require either an absolute majority in both houses, a three-fifths majority in both houses, or the approval of the Victorian people in a referendum, depending on the provision.\"\n",
    "\n",
    "doc = \"Beyoncé Giselle Knowles-Carter (/biːˈjɒnseɪ/ bee-YON-say) (born September 4, 1981) is an American singer, songwriter, record producer and actress. Born and raised in Houston, Texas, she performed in various singing and dancing competitions as a child, and rose to fame in the late 1990s as lead singer of R&B girl-group Destiny's Child. Managed by her father, Mathew Knowles, the group became one of the world's best-selling girl groups of all time. Their hiatus saw the release of Beyoncé's debut album, Dangerously in Love (2003), which established her as a solo artist worldwide, earned five Grammy Awards and featured the Billboard Hot 100 number-one singles Crazy in Love and Baby Boy\"\n",
    "\n",
    "#q = 'When did Victoria enact its constitution?'\n",
    "q = 'When did Beyonce start becoming popular?'\n",
    "\n",
    "answer = model.predict(doc,q)\n",
    "\n",
    "print(answer['answer'])\n",
    "# 1975\n",
    "print(answer.keys())\n",
    "# dict_keys(['answer', 'start', 'end', 'confidence', 'document']))"
   ]
  },
  {
   "cell_type": "code",
   "execution_count": 2,
   "id": "ee8e15c4",
   "metadata": {},
   "outputs": [
    {
     "name": "stdout",
     "output_type": "stream",
     "text": [
      "Beyoncé Giselle Knowles-Carter\n",
      "dict_keys(['answer', 'start', 'end', 'confidence', 'document'])\n"
     ]
    }
   ],
   "source": [
    "from bert import QA\n",
    "\n",
    "model = QA('model')\n",
    "\n",
    "#doc = \"Victoria has a written constitution enacted in 1975, but based on the 1855 colonial constitution, passed by the United Kingdom Parliament as the Victoria Constitution Act 1855, which establishes the Parliament as the state's law-making body for matters coming under state responsibility. The Victorian Constitution can be amended by the Parliament of Victoria, except for certain 'entrenched' provisions that require either an absolute majority in both houses, a three-fifths majority in both houses, or the approval of the Victorian people in a referendum, depending on the provision.\"\n",
    "\n",
    "doc = \"Beyoncé Giselle Knowles-Carter (/biːˈjɒnseɪ/ bee-YON-say) (born September 4, 1981) is an American singer, songwriter, record producer and actress. Born and raised in Houston, Texas, she performed in various singing and dancing competitions as a child, and rose to fame in the late 1990s as lead singer of R&B girl-group Destiny's Child. Managed by her father, Mathew Knowles, the group became one of the world's best-selling girl groups of all time. Their hiatus saw the release of Beyoncé's debut album, Dangerously in Love (2003), which established her as a solo artist worldwide, earned five Grammy Awards and featured the Billboard Hot 100 number-one singles Crazy in Love and Baby Boy\"\n",
    "\n",
    "q = 'When did Victoria enact its constitution?'\n",
    "#q = 'When did Beyonce start becoming popular?'\n",
    "\n",
    "answer = model.predict(doc,q)\n",
    "\n",
    "print(answer['answer'])\n",
    "# 1975\n",
    "print(answer.keys())\n",
    "# dict_keys(['answer', 'start', 'end', 'confidence', 'document']))"
   ]
  },
  {
   "cell_type": "code",
   "execution_count": null,
   "id": "bc515299",
   "metadata": {},
   "outputs": [],
   "source": []
  }
 ],
 "metadata": {
  "kernelspec": {
   "display_name": "Python 3 (ipykernel)",
   "language": "python",
   "name": "python3"
  },
  "language_info": {
   "codemirror_mode": {
    "name": "ipython",
    "version": 3
   },
   "file_extension": ".py",
   "mimetype": "text/x-python",
   "name": "python",
   "nbconvert_exporter": "python",
   "pygments_lexer": "ipython3",
   "version": "3.8.10"
  }
 },
 "nbformat": 4,
 "nbformat_minor": 5
}
