{
 "cells": [
  {
   "cell_type": "code",
   "execution_count": null,
   "id": "09820674",
   "metadata": {},
   "outputs": [
    {
     "name": "stdout",
     "output_type": "stream",
     "text": [
      "['data science is an interdisciplinary field that uses scientific methods, processes, algorithms and systems to extract knowledge and insights from noisy, structured and unstructured data,[1][2] and apply knowledge and actionable insights from data across a broad range of application domains.', 'data science is related to data mining, machine learning and big data.']\n",
      "['data', 'science', 'is', 'an', 'interdisciplinary']\n",
      "ROBO: My name is Robo. I will answer your queries about Chatbots. If you want to exit, type Bye!\n",
      "data\n",
      "ROBO: sent_tokens ['data science is an interdisciplinary field that uses scientific methods, processes, algorithms and systems to extract knowledge and insights from noisy, structured and unstructured data,[1][2] and apply knowledge and actionable insights from data across a broad range of application domains.', 'data science is related to data mining, machine learning and big data.', 'data science is a \"concept to unify statistics, data analysis, informatics, and their related methods\" in order to \"understand and analyze actual phenomena\" with data.', '[3] it uses techniques and theories drawn from many fields within the context of mathematics, statistics, computer science, information science, and domain knowledge.', 'however, data science is different from computer science and information science.', 'turing award winner jim gray imagined data science as a \"fourth paradigm\" of science (empirical, theoretical, computational, and now data-driven) and asserted that \"everything about science is changing because of the impact of information technology\" and the data deluge.', '[4][5]\\n\\na data scientist is someone who creates programming code, and combines it with statistical knowledge to create insights from data.', '[6]\\ncontents\\n\\n    1 foundations\\n        1.1 relationship to statistics\\n    2 etymology\\n        2.1 early usage\\n        2.2 modern usage\\n    3 market\\n    4 technologies and techniques\\n        4.1 techniques\\n    5 see also\\n    6 references\\n\\nfoundations\\n\\ndata science is an interdisciplinary field focused on extracting knowledge from data sets, which are typically large (see big data), and applying the knowledge and actionable insights from data to solve problems in a wide range of application domains.', '[7] the field encompasses preparing data for analysis, formulating data science problems, analyzing data, developing data-driven solutions, and presenting findings to inform high-level decisions in a broad range of application domains.', 'as such, it incorporates skills from computer science, statistics, information science, mathematics, information visualization, data integration, graphic design, complex systems, communication and business.', '[8][9] statistician nathan yau, drawing on ben fry, also links data science to human-computer interaction: users should be able to intuitively control and explore data.', '[10][11] in 2015, the american statistical association identified database management, statistics and machine learning, and distributed and parallel systems as the three emerging foundational professional communities.', '[12]\\nrelationship to statistics\\n\\nmany statisticians, including nate silver, have argued that data science is not a new field, but rather another name for statistics.', '[13] others argue that data science is distinct from statistics because it focuses on problems and techniques unique to digital data.', '[14] vasant dhar writes that statistics emphasizes quantitative data and description.', 'in contrast, data science deals with quantitative and qualitative data (e.g.', 'images) and emphasizes prediction and action.', '[15] andrew gelman of columbia university has described statistics as a nonessential part of data science.', '[16] stanford professor david donoho writes that data science is not distinguished from statistics by the size of datasets or use of computing, and that many graduate programs misleadingly advertise their analytics and statistics training as the essence of a data science program.', 'he describes data science as an applied field growing out of traditional statistics.', '[17] in summary, data science can be therefore described as an applied branch of statistics.', 'etymology\\nearly usage\\n\\nin 1962, john tukey described a field he called \"data analysis\", which resembles modern data science.', '[17] in 1985, in a lecture given to the chinese academy of sciences in beijing, c.f.', 'jeff wu used the term data science for the first time as an alternative name for statistics.', '[18] later, attendees at a 1992 statistics symposium at the university of montpellier ii acknowledged the emergence of a new discipline focused on data of various origins and forms, combining established concepts and principles of statistics and data analysis with computing.', '[19][20]\\n\\nthe term \"data science\" has been traced back to 1974, when peter naur proposed it as an alternative name for computer science.', '[21] in 1996, the international federation of classification societies became the first conference to specifically feature data science as a topic.', '[21] however, the definition was still in flux.', 'after the 1985 lecture in the chinese academy of sciences in beijing, in 1997 c.f.', 'jeff wu again suggested that statistics should be renamed data science.', 'he reasoned that a new name would help statistics shed inaccurate stereotypes, such as being synonymous with accounting, or limited to describing data.', '[22] in 1998, hayashi chikio argued for data science as a new, interdisciplinary concept, with three aspects: data design, collection, and analysis.', '[20]\\n\\nduring the 1990s, popular terms for the process of finding patterns in datasets (which were increasingly large) included \"knowledge discovery\" and \"data mining\".', '[23][21]\\nmodern usage\\n\\nthe modern conception of data science as an independent discipline is sometimes attributed to william s.', 'cleveland.', '[24] in a 2001 paper, he advocated an expansion of statistics beyond theory into technical areas; because this would significantly change the field, it warranted a new name.', '[23] \"data science\" became more widely used in the next few years: in 2002, the committee on data for science and technology launched data science journal.', 'in 2003, columbia university launched the journal of data science.', \"[23] in 2014, the american statistical association's section on statistical learning and data mining changed its name to the section on statistical learning and data science, reflecting the ascendant popularity of data science.\", '[25]\\n\\nthe professional title of \"data scientist\" has been attributed to dj patil and jeff hammerbacher in 2008.', '[26] though it was used by the national science board in their 2005 report, \"long-lived digital data collections: enabling research and education in the 21st century,\" it referred broadly to any key role in managing a digital data collection.', '[27]\\n\\nthere is still no consensus on the definition of data science and it is considered by some to be a buzzword.', '[28]\\nmarket\\n\\nbig data is becoming a tool for businesses and companies of all sizes.', '[29] the availability and interpretation of big data has altered the business models of old industries and enabled the creation of new ones.', '[29] data scientists are responsible for breaking down big data into usable information and creating software and algorithms that help companies and organizations determine optimal operations.', '[30]\\ntechnologies and techniques\\n\\nthere is a variety of different technologies and techniques that are used for data science which depend on the application.', 'more recently, full-featured, end-to-end platforms have been developed and heavily used for data science and machine learning.', 'techniques\\nfurther information: statistics § methods\\n\\n    linear regression\\n    logistic regression\\n    decision trees are used as prediction models for classification and data fitting.', 'the decision tree structure can be used to generate rules able to classify or predict target/class/label variable based on the observation attributes.', 'support-vector machine (svm)\\n    cluster analysis is a technique used to group data together.', 'dimensionality reduction is used to reduce the complexity of data computation so that it can be performed more quickly.', \"machine learning is a technique used to perform tasks by inferencing patterns from data\\n    naive bayes classifiers are used to classify by applying the bayes' theorem.\", 'they are mainly used in datasets with large amounts of data, and can aptly generate accurate results.', 'data']\n"
     ]
    },
    {
     "name": "stderr",
     "output_type": "stream",
     "text": [
      "/usr/local/lib/python3.8/dist-packages/scikit_learn-0.24.2-py3.8-linux-x86_64.egg/sklearn/feature_extraction/text.py:388: UserWarning: Your stop_words may be inconsistent with your preprocessing. Tokenizing the stop words generated tokens ['ha', 'le', 'u', 'wa'] not in stop_words.\n",
      "  warnings.warn('Your stop_words may be inconsistent with '\n"
     ]
    },
    {
     "name": "stdout",
     "output_type": "stream",
     "text": [
      "data science is related to data mining, machine learning and big data.\n"
     ]
    }
   ],
   "source": [
    "%run simplechatbot.py"
   ]
  },
  {
   "cell_type": "code",
   "execution_count": 1,
   "id": "d1c5a043",
   "metadata": {},
   "outputs": [
    {
     "ename": "SyntaxError",
     "evalue": "invalid syntax (2312319283.py, line 1)",
     "output_type": "error",
     "traceback": [
      "\u001b[0;36m  File \u001b[0;32m\"/tmp/ipykernel_148487/2312319283.py\"\u001b[0;36m, line \u001b[0;32m1\u001b[0m\n\u001b[0;31m    data sceince\u001b[0m\n\u001b[0m         ^\u001b[0m\n\u001b[0;31mSyntaxError\u001b[0m\u001b[0;31m:\u001b[0m invalid syntax\n"
     ]
    }
   ],
   "source": [
    "data sceince\n"
   ]
  },
  {
   "cell_type": "code",
   "execution_count": null,
   "id": "b7629785",
   "metadata": {},
   "outputs": [],
   "source": []
  }
 ],
 "metadata": {
  "kernelspec": {
   "display_name": "Python 3 (ipykernel)",
   "language": "python",
   "name": "python3"
  },
  "language_info": {
   "codemirror_mode": {
    "name": "ipython",
    "version": 3
   },
   "file_extension": ".py",
   "mimetype": "text/x-python",
   "name": "python",
   "nbconvert_exporter": "python",
   "pygments_lexer": "ipython3",
   "version": "3.8.10"
  }
 },
 "nbformat": 4,
 "nbformat_minor": 5
}
