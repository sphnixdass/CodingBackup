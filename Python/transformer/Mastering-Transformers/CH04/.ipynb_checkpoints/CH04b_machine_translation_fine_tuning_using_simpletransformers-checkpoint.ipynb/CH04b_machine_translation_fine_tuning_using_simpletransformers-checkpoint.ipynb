{
 "cells": [
  {
   "cell_type": "code",
   "execution_count": 1,
   "metadata": {},
   "outputs": [
    {
     "name": "stdout",
     "output_type": "stream",
     "text": [
      "\r\n"
     ]
    }
   ],
   "source": [
    "!echo $CUDA_VISIBLE_DEVICES"
   ]
  },
  {
   "cell_type": "code",
   "execution_count": 2,
   "metadata": {},
   "outputs": [],
   "source": [
    "import os\n",
    "os.environ[\"CUDA_VISIBLE_DEVICES\"]=\"\""
   ]
  },
  {
   "cell_type": "code",
   "execution_count": 3,
   "metadata": {},
   "outputs": [],
   "source": [
    "import pandas as pd"
   ]
  },
  {
   "cell_type": "code",
   "execution_count": 4,
   "metadata": {},
   "outputs": [],
   "source": [
    "df = pd.read_csv(\"TR2EN.txt\",sep=\"\\t\").astype(str)"
   ]
  },
  {
   "cell_type": "code",
   "execution_count": 5,
   "metadata": {},
   "outputs": [
    {
     "data": {
      "text/html": [
       "<div>\n",
       "<style scoped>\n",
       "    .dataframe tbody tr th:only-of-type {\n",
       "        vertical-align: middle;\n",
       "    }\n",
       "\n",
       "    .dataframe tbody tr th {\n",
       "        vertical-align: top;\n",
       "    }\n",
       "\n",
       "    .dataframe thead th {\n",
       "        text-align: right;\n",
       "    }\n",
       "</style>\n",
       "<table border=\"1\" class=\"dataframe\">\n",
       "  <thead>\n",
       "    <tr style=\"text-align: right;\">\n",
       "      <th></th>\n",
       "      <th>EN</th>\n",
       "      <th>TR</th>\n",
       "    </tr>\n",
       "  </thead>\n",
       "  <tbody>\n",
       "    <tr>\n",
       "      <th>0</th>\n",
       "      <td>Hi.</td>\n",
       "      <td>Merhaba.</td>\n",
       "    </tr>\n",
       "    <tr>\n",
       "      <th>1</th>\n",
       "      <td>Hi.</td>\n",
       "      <td>Selam.</td>\n",
       "    </tr>\n",
       "    <tr>\n",
       "      <th>2</th>\n",
       "      <td>Run!</td>\n",
       "      <td>Kaç!</td>\n",
       "    </tr>\n",
       "    <tr>\n",
       "      <th>3</th>\n",
       "      <td>Run!</td>\n",
       "      <td>Koş!</td>\n",
       "    </tr>\n",
       "    <tr>\n",
       "      <th>4</th>\n",
       "      <td>Run.</td>\n",
       "      <td>Kaç!</td>\n",
       "    </tr>\n",
       "    <tr>\n",
       "      <th>...</th>\n",
       "      <td>...</td>\n",
       "      <td>...</td>\n",
       "    </tr>\n",
       "    <tr>\n",
       "      <th>473030</th>\n",
       "      <td>A carbon footprint is the amount of carbon dio...</td>\n",
       "      <td>Bir karbon ayakizi bizim faaliyetlerimizin bir...</td>\n",
       "    </tr>\n",
       "    <tr>\n",
       "      <th>473031</th>\n",
       "      <td>At a moment when our economy is growing, our b...</td>\n",
       "      <td>Ekonomimizin büyüdüğü bir anda bizim işletmele...</td>\n",
       "    </tr>\n",
       "    <tr>\n",
       "      <th>473032</th>\n",
       "      <td>Using high heat settings while ironing synthet...</td>\n",
       "      <td>Sentetik kumaşları ütülerken yüksek ısı ayarla...</td>\n",
       "    </tr>\n",
       "    <tr>\n",
       "      <th>473033</th>\n",
       "      <td>If you want to sound like a native speaker, yo...</td>\n",
       "      <td>Eğer bir yerli gibi konuşmak istiyorsan, banço...</td>\n",
       "    </tr>\n",
       "    <tr>\n",
       "      <th>473034</th>\n",
       "      <td>If someone who doesn't know your background sa...</td>\n",
       "      <td>Senin geçmiş deneyimini bilmeyen biri senin bi...</td>\n",
       "    </tr>\n",
       "  </tbody>\n",
       "</table>\n",
       "<p>473035 rows × 2 columns</p>\n",
       "</div>"
      ],
      "text/plain": [
       "                                                       EN  \\\n",
       "0                                                     Hi.   \n",
       "1                                                     Hi.   \n",
       "2                                                    Run!   \n",
       "3                                                    Run!   \n",
       "4                                                    Run.   \n",
       "...                                                   ...   \n",
       "473030  A carbon footprint is the amount of carbon dio...   \n",
       "473031  At a moment when our economy is growing, our b...   \n",
       "473032  Using high heat settings while ironing synthet...   \n",
       "473033  If you want to sound like a native speaker, yo...   \n",
       "473034  If someone who doesn't know your background sa...   \n",
       "\n",
       "                                                       TR  \n",
       "0                                                Merhaba.  \n",
       "1                                                  Selam.  \n",
       "2                                                    Kaç!  \n",
       "3                                                    Koş!  \n",
       "4                                                    Kaç!  \n",
       "...                                                   ...  \n",
       "473030  Bir karbon ayakizi bizim faaliyetlerimizin bir...  \n",
       "473031  Ekonomimizin büyüdüğü bir anda bizim işletmele...  \n",
       "473032  Sentetik kumaşları ütülerken yüksek ısı ayarla...  \n",
       "473033  Eğer bir yerli gibi konuşmak istiyorsan, banço...  \n",
       "473034  Senin geçmiş deneyimini bilmeyen biri senin bi...  \n",
       "\n",
       "[473035 rows x 2 columns]"
      ]
     },
     "execution_count": 5,
     "metadata": {},
     "output_type": "execute_result"
    }
   ],
   "source": [
    "df"
   ]
  },
  {
   "cell_type": "code",
   "execution_count": 6,
   "metadata": {},
   "outputs": [],
   "source": [
    "data = []\n",
    "for item in df[:10500].iterrows():\n",
    "    data.append([\"translate english to turkish\", item[1].EN, item[1].TR])"
   ]
  },
  {
   "cell_type": "code",
   "execution_count": 7,
   "metadata": {},
   "outputs": [],
   "source": [
    "df = pd.DataFrame(data, columns=[\"prefix\", \"input_text\", \"target_text\"])"
   ]
  },
  {
   "cell_type": "code",
   "execution_count": 8,
   "metadata": {},
   "outputs": [],
   "source": [
    "train_df = df[:50]\n",
    "eval_df = df[50:100]"
   ]
  },
  {
   "cell_type": "code",
   "execution_count": 9,
   "metadata": {},
   "outputs": [
    {
     "data": {
      "text/html": [
       "<div>\n",
       "<style scoped>\n",
       "    .dataframe tbody tr th:only-of-type {\n",
       "        vertical-align: middle;\n",
       "    }\n",
       "\n",
       "    .dataframe tbody tr th {\n",
       "        vertical-align: top;\n",
       "    }\n",
       "\n",
       "    .dataframe thead th {\n",
       "        text-align: right;\n",
       "    }\n",
       "</style>\n",
       "<table border=\"1\" class=\"dataframe\">\n",
       "  <thead>\n",
       "    <tr style=\"text-align: right;\">\n",
       "      <th></th>\n",
       "      <th>prefix</th>\n",
       "      <th>input_text</th>\n",
       "      <th>target_text</th>\n",
       "    </tr>\n",
       "  </thead>\n",
       "  <tbody>\n",
       "    <tr>\n",
       "      <th>0</th>\n",
       "      <td>translate english to turkish</td>\n",
       "      <td>Hi.</td>\n",
       "      <td>Merhaba.</td>\n",
       "    </tr>\n",
       "    <tr>\n",
       "      <th>1</th>\n",
       "      <td>translate english to turkish</td>\n",
       "      <td>Hi.</td>\n",
       "      <td>Selam.</td>\n",
       "    </tr>\n",
       "    <tr>\n",
       "      <th>2</th>\n",
       "      <td>translate english to turkish</td>\n",
       "      <td>Run!</td>\n",
       "      <td>Kaç!</td>\n",
       "    </tr>\n",
       "    <tr>\n",
       "      <th>3</th>\n",
       "      <td>translate english to turkish</td>\n",
       "      <td>Run!</td>\n",
       "      <td>Koş!</td>\n",
       "    </tr>\n",
       "    <tr>\n",
       "      <th>4</th>\n",
       "      <td>translate english to turkish</td>\n",
       "      <td>Run.</td>\n",
       "      <td>Kaç!</td>\n",
       "    </tr>\n",
       "    <tr>\n",
       "      <th>5</th>\n",
       "      <td>translate english to turkish</td>\n",
       "      <td>Run.</td>\n",
       "      <td>Koş!</td>\n",
       "    </tr>\n",
       "    <tr>\n",
       "      <th>6</th>\n",
       "      <td>translate english to turkish</td>\n",
       "      <td>Who?</td>\n",
       "      <td>Kim?</td>\n",
       "    </tr>\n",
       "    <tr>\n",
       "      <th>7</th>\n",
       "      <td>translate english to turkish</td>\n",
       "      <td>Fire!</td>\n",
       "      <td>Ateş!</td>\n",
       "    </tr>\n",
       "    <tr>\n",
       "      <th>8</th>\n",
       "      <td>translate english to turkish</td>\n",
       "      <td>Fire!</td>\n",
       "      <td>Yangın!</td>\n",
       "    </tr>\n",
       "    <tr>\n",
       "      <th>9</th>\n",
       "      <td>translate english to turkish</td>\n",
       "      <td>Help!</td>\n",
       "      <td>Yardım et!</td>\n",
       "    </tr>\n",
       "    <tr>\n",
       "      <th>10</th>\n",
       "      <td>translate english to turkish</td>\n",
       "      <td>Jump.</td>\n",
       "      <td>Defol.</td>\n",
       "    </tr>\n",
       "    <tr>\n",
       "      <th>11</th>\n",
       "      <td>translate english to turkish</td>\n",
       "      <td>Stop!</td>\n",
       "      <td>Dur!</td>\n",
       "    </tr>\n",
       "    <tr>\n",
       "      <th>12</th>\n",
       "      <td>translate english to turkish</td>\n",
       "      <td>Stop!</td>\n",
       "      <td>Bırak!</td>\n",
       "    </tr>\n",
       "    <tr>\n",
       "      <th>13</th>\n",
       "      <td>translate english to turkish</td>\n",
       "      <td>Wait.</td>\n",
       "      <td>Bekle.</td>\n",
       "    </tr>\n",
       "    <tr>\n",
       "      <th>14</th>\n",
       "      <td>translate english to turkish</td>\n",
       "      <td>Do it.</td>\n",
       "      <td>Onu yap.</td>\n",
       "    </tr>\n",
       "    <tr>\n",
       "      <th>15</th>\n",
       "      <td>translate english to turkish</td>\n",
       "      <td>Go on.</td>\n",
       "      <td>Devam et.</td>\n",
       "    </tr>\n",
       "    <tr>\n",
       "      <th>16</th>\n",
       "      <td>translate english to turkish</td>\n",
       "      <td>Hello!</td>\n",
       "      <td>Merhaba.</td>\n",
       "    </tr>\n",
       "    <tr>\n",
       "      <th>17</th>\n",
       "      <td>translate english to turkish</td>\n",
       "      <td>Hello!</td>\n",
       "      <td>Selam.</td>\n",
       "    </tr>\n",
       "    <tr>\n",
       "      <th>18</th>\n",
       "      <td>translate english to turkish</td>\n",
       "      <td>Hurry!</td>\n",
       "      <td>Acele et!</td>\n",
       "    </tr>\n",
       "    <tr>\n",
       "      <th>19</th>\n",
       "      <td>translate english to turkish</td>\n",
       "      <td>I ran.</td>\n",
       "      <td>Koştum.</td>\n",
       "    </tr>\n",
       "    <tr>\n",
       "      <th>20</th>\n",
       "      <td>translate english to turkish</td>\n",
       "      <td>I see.</td>\n",
       "      <td>Anlıyorum.</td>\n",
       "    </tr>\n",
       "    <tr>\n",
       "      <th>21</th>\n",
       "      <td>translate english to turkish</td>\n",
       "      <td>I see.</td>\n",
       "      <td>Görüyorum.</td>\n",
       "    </tr>\n",
       "    <tr>\n",
       "      <th>22</th>\n",
       "      <td>translate english to turkish</td>\n",
       "      <td>I won.</td>\n",
       "      <td>Kazandım.</td>\n",
       "    </tr>\n",
       "    <tr>\n",
       "      <th>23</th>\n",
       "      <td>translate english to turkish</td>\n",
       "      <td>Oh no!</td>\n",
       "      <td>Oh hayır!</td>\n",
       "    </tr>\n",
       "    <tr>\n",
       "      <th>24</th>\n",
       "      <td>translate english to turkish</td>\n",
       "      <td>Relax.</td>\n",
       "      <td>Rahatla.</td>\n",
       "    </tr>\n",
       "    <tr>\n",
       "      <th>25</th>\n",
       "      <td>translate english to turkish</td>\n",
       "      <td>Smile.</td>\n",
       "      <td>Gülümse.</td>\n",
       "    </tr>\n",
       "    <tr>\n",
       "      <th>26</th>\n",
       "      <td>translate english to turkish</td>\n",
       "      <td>Attack!</td>\n",
       "      <td>Saldır!</td>\n",
       "    </tr>\n",
       "    <tr>\n",
       "      <th>27</th>\n",
       "      <td>translate english to turkish</td>\n",
       "      <td>Attack!</td>\n",
       "      <td>Hücum!</td>\n",
       "    </tr>\n",
       "    <tr>\n",
       "      <th>28</th>\n",
       "      <td>translate english to turkish</td>\n",
       "      <td>Eat it.</td>\n",
       "      <td>Bunu ye.</td>\n",
       "    </tr>\n",
       "    <tr>\n",
       "      <th>29</th>\n",
       "      <td>translate english to turkish</td>\n",
       "      <td>Eat up.</td>\n",
       "      <td>Silip süpür.</td>\n",
       "    </tr>\n",
       "    <tr>\n",
       "      <th>30</th>\n",
       "      <td>translate english to turkish</td>\n",
       "      <td>Freeze!</td>\n",
       "      <td>Kımıldama!</td>\n",
       "    </tr>\n",
       "    <tr>\n",
       "      <th>31</th>\n",
       "      <td>translate english to turkish</td>\n",
       "      <td>Freeze!</td>\n",
       "      <td>Olduğun yerde kal!</td>\n",
       "    </tr>\n",
       "    <tr>\n",
       "      <th>32</th>\n",
       "      <td>translate english to turkish</td>\n",
       "      <td>Go now.</td>\n",
       "      <td>Şimdi git.</td>\n",
       "    </tr>\n",
       "    <tr>\n",
       "      <th>33</th>\n",
       "      <td>translate english to turkish</td>\n",
       "      <td>Got it!</td>\n",
       "      <td>Anladım!</td>\n",
       "    </tr>\n",
       "    <tr>\n",
       "      <th>34</th>\n",
       "      <td>translate english to turkish</td>\n",
       "      <td>Got it?</td>\n",
       "      <td>Anladın mı?</td>\n",
       "    </tr>\n",
       "    <tr>\n",
       "      <th>35</th>\n",
       "      <td>translate english to turkish</td>\n",
       "      <td>He ran.</td>\n",
       "      <td>O koştu.</td>\n",
       "    </tr>\n",
       "    <tr>\n",
       "      <th>36</th>\n",
       "      <td>translate english to turkish</td>\n",
       "      <td>Hop in.</td>\n",
       "      <td>Atla.</td>\n",
       "    </tr>\n",
       "    <tr>\n",
       "      <th>37</th>\n",
       "      <td>translate english to turkish</td>\n",
       "      <td>I fell.</td>\n",
       "      <td>Ben düştüm.</td>\n",
       "    </tr>\n",
       "    <tr>\n",
       "      <th>38</th>\n",
       "      <td>translate english to turkish</td>\n",
       "      <td>I know.</td>\n",
       "      <td>Biliyorum.</td>\n",
       "    </tr>\n",
       "    <tr>\n",
       "      <th>39</th>\n",
       "      <td>translate english to turkish</td>\n",
       "      <td>I left.</td>\n",
       "      <td>Ben ayrıldım.</td>\n",
       "    </tr>\n",
       "    <tr>\n",
       "      <th>40</th>\n",
       "      <td>translate english to turkish</td>\n",
       "      <td>I lost.</td>\n",
       "      <td>Kayboldum.</td>\n",
       "    </tr>\n",
       "    <tr>\n",
       "      <th>41</th>\n",
       "      <td>translate english to turkish</td>\n",
       "      <td>I paid.</td>\n",
       "      <td>Ödedim.</td>\n",
       "    </tr>\n",
       "    <tr>\n",
       "      <th>42</th>\n",
       "      <td>translate english to turkish</td>\n",
       "      <td>I quit.</td>\n",
       "      <td>Ben istifa ettim.</td>\n",
       "    </tr>\n",
       "    <tr>\n",
       "      <th>43</th>\n",
       "      <td>translate english to turkish</td>\n",
       "      <td>I swim.</td>\n",
       "      <td>Yüzerim.</td>\n",
       "    </tr>\n",
       "    <tr>\n",
       "      <th>44</th>\n",
       "      <td>translate english to turkish</td>\n",
       "      <td>I work.</td>\n",
       "      <td>Çalışıyorum.</td>\n",
       "    </tr>\n",
       "    <tr>\n",
       "      <th>45</th>\n",
       "      <td>translate english to turkish</td>\n",
       "      <td>I'm 19.</td>\n",
       "      <td>Ben 19 yaşındayım.</td>\n",
       "    </tr>\n",
       "    <tr>\n",
       "      <th>46</th>\n",
       "      <td>translate english to turkish</td>\n",
       "      <td>I'm OK.</td>\n",
       "      <td>Ben iyiyim.</td>\n",
       "    </tr>\n",
       "    <tr>\n",
       "      <th>47</th>\n",
       "      <td>translate english to turkish</td>\n",
       "      <td>I'm up.</td>\n",
       "      <td>Ben uyanığım.</td>\n",
       "    </tr>\n",
       "    <tr>\n",
       "      <th>48</th>\n",
       "      <td>translate english to turkish</td>\n",
       "      <td>No way!</td>\n",
       "      <td>Mümkün değil!</td>\n",
       "    </tr>\n",
       "    <tr>\n",
       "      <th>49</th>\n",
       "      <td>translate english to turkish</td>\n",
       "      <td>Try it.</td>\n",
       "      <td>Bunu dene.</td>\n",
       "    </tr>\n",
       "  </tbody>\n",
       "</table>\n",
       "</div>"
      ],
      "text/plain": [
       "                          prefix input_text         target_text\n",
       "0   translate english to turkish        Hi.            Merhaba.\n",
       "1   translate english to turkish        Hi.              Selam.\n",
       "2   translate english to turkish       Run!                Kaç!\n",
       "3   translate english to turkish       Run!                Koş!\n",
       "4   translate english to turkish       Run.                Kaç!\n",
       "5   translate english to turkish       Run.                Koş!\n",
       "6   translate english to turkish       Who?                Kim?\n",
       "7   translate english to turkish      Fire!               Ateş!\n",
       "8   translate english to turkish      Fire!             Yangın!\n",
       "9   translate english to turkish      Help!          Yardım et!\n",
       "10  translate english to turkish      Jump.              Defol.\n",
       "11  translate english to turkish      Stop!                Dur!\n",
       "12  translate english to turkish      Stop!              Bırak!\n",
       "13  translate english to turkish      Wait.              Bekle.\n",
       "14  translate english to turkish     Do it.            Onu yap.\n",
       "15  translate english to turkish     Go on.           Devam et.\n",
       "16  translate english to turkish     Hello!            Merhaba.\n",
       "17  translate english to turkish     Hello!              Selam.\n",
       "18  translate english to turkish     Hurry!           Acele et!\n",
       "19  translate english to turkish     I ran.             Koştum.\n",
       "20  translate english to turkish     I see.          Anlıyorum.\n",
       "21  translate english to turkish     I see.          Görüyorum.\n",
       "22  translate english to turkish     I won.           Kazandım.\n",
       "23  translate english to turkish     Oh no!           Oh hayır!\n",
       "24  translate english to turkish     Relax.            Rahatla.\n",
       "25  translate english to turkish     Smile.            Gülümse.\n",
       "26  translate english to turkish    Attack!             Saldır!\n",
       "27  translate english to turkish    Attack!              Hücum!\n",
       "28  translate english to turkish    Eat it.            Bunu ye.\n",
       "29  translate english to turkish    Eat up.        Silip süpür.\n",
       "30  translate english to turkish    Freeze!          Kımıldama!\n",
       "31  translate english to turkish    Freeze!  Olduğun yerde kal!\n",
       "32  translate english to turkish    Go now.          Şimdi git.\n",
       "33  translate english to turkish    Got it!            Anladım!\n",
       "34  translate english to turkish    Got it?         Anladın mı?\n",
       "35  translate english to turkish    He ran.            O koştu.\n",
       "36  translate english to turkish    Hop in.               Atla.\n",
       "37  translate english to turkish    I fell.         Ben düştüm.\n",
       "38  translate english to turkish    I know.          Biliyorum.\n",
       "39  translate english to turkish    I left.       Ben ayrıldım.\n",
       "40  translate english to turkish    I lost.          Kayboldum.\n",
       "41  translate english to turkish    I paid.             Ödedim.\n",
       "42  translate english to turkish    I quit.   Ben istifa ettim.\n",
       "43  translate english to turkish    I swim.            Yüzerim.\n",
       "44  translate english to turkish    I work.        Çalışıyorum.\n",
       "45  translate english to turkish    I'm 19.  Ben 19 yaşındayım.\n",
       "46  translate english to turkish    I'm OK.         Ben iyiyim.\n",
       "47  translate english to turkish    I'm up.       Ben uyanığım.\n",
       "48  translate english to turkish    No way!       Mümkün değil!\n",
       "49  translate english to turkish    Try it.          Bunu dene."
      ]
     },
     "execution_count": 9,
     "metadata": {},
     "output_type": "execute_result"
    }
   ],
   "source": [
    "train_df"
   ]
  },
  {
   "cell_type": "code",
   "execution_count": 10,
   "metadata": {},
   "outputs": [],
   "source": [
    "import logging\n",
    "import pandas as pd\n",
    "from simpletransformers.t5 import T5Model, T5Args\n",
    "\n",
    "logging.basicConfig(level=logging.INFO)\n",
    "transformers_logger = logging.getLogger(\"transformers\")\n",
    "transformers_logger.setLevel(logging.WARNING)"
   ]
  },
  {
   "cell_type": "code",
   "execution_count": 11,
   "metadata": {},
   "outputs": [],
   "source": [
    "model_args = T5Args()\n",
    "model_args.max_seq_length = 96\n",
    "model_args.train_batch_size = 20\n",
    "model_args.eval_batch_size = 20\n",
    "model_args.num_train_epochs = 1\n",
    "model_args.evaluate_during_training = True\n",
    "model_args.evaluate_during_training_steps = 30000\n",
    "model_args.use_multiprocessing = False\n",
    "model_args.fp16 = False\n",
    "model_args.save_steps = -1\n",
    "model_args.save_eval_checkpoints = False\n",
    "model_args.no_cache = True\n",
    "model_args.reprocess_input_data = True\n",
    "model_args.overwrite_output_dir = True\n",
    "model_args.preprocess_inputs = False\n",
    "model_args.num_return_sequences = 1\n",
    "model_args.wandb_project = \"MT5 English-Turkish Translation\"\n",
    "\n",
    "model = T5Model(\"mt5\", \"google/mt5-small\", args=model_args, use_cuda=False)"
   ]
  },
  {
   "cell_type": "code",
   "execution_count": 12,
   "metadata": {
    "scrolled": false
   },
   "outputs": [
    {
     "name": "stderr",
     "output_type": "stream",
     "text": [
      "INFO:simpletransformers.t5.t5_utils: Creating features from dataset file at cache_dir/\n"
     ]
    },
    {
     "data": {
      "application/vnd.jupyter.widget-view+json": {
       "model_id": "6a1508ed96aa4d3dafe89255162b6998",
       "version_major": 2,
       "version_minor": 0
      },
      "text/plain": [
       "HBox(children=(FloatProgress(value=0.0, max=50.0), HTML(value='')))"
      ]
     },
     "metadata": {},
     "output_type": "display_data"
    },
    {
     "name": "stderr",
     "output_type": "stream",
     "text": [
      "INFO:simpletransformers.t5.t5_model: Training started\n"
     ]
    },
    {
     "name": "stdout",
     "output_type": "stream",
     "text": [
      "\n",
      "Using Adafactor for T5\n"
     ]
    },
    {
     "data": {
      "application/vnd.jupyter.widget-view+json": {
       "model_id": "cd2f6b5a07db4e329b9c527c8c6438c2",
       "version_major": 2,
       "version_minor": 0
      },
      "text/plain": [
       "HBox(children=(FloatProgress(value=0.0, description='Epoch', max=1.0, style=ProgressStyle(description_width='i…"
      ]
     },
     "metadata": {},
     "output_type": "display_data"
    },
    {
     "name": "stderr",
     "output_type": "stream",
     "text": [
      "\u001b[34m\u001b[1mwandb\u001b[0m: You can find your API key in your browser here: https://wandb.ai/authorize\n"
     ]
    },
    {
     "name": "stdout",
     "output_type": "stream",
     "text": [
      "wandb: Paste an API key from your profile and hit enter: ········\n"
     ]
    },
    {
     "name": "stderr",
     "output_type": "stream",
     "text": [
      "\u001b[34m\u001b[1mwandb\u001b[0m: W&B syncing is set to `offline` in this directory.  Run `wandb online` or set WANDB_MODE=online to enable cloud syncing.\n"
     ]
    },
    {
     "data": {
      "application/vnd.jupyter.widget-view+json": {
       "model_id": "faf82c233e7a4a75870145d185001e12",
       "version_major": 2,
       "version_minor": 0
      },
      "text/plain": [
       "HBox(children=(FloatProgress(value=0.0, description='Running Epoch 0 of 1', max=3.0, style=ProgressStyle(descr…"
      ]
     },
     "metadata": {},
     "output_type": "display_data"
    },
    {
     "name": "stderr",
     "output_type": "stream",
     "text": [
      "/home/meysam/anaconda3/lib/python3.8/site-packages/transformers/optimization.py:557: UserWarning: This overload of add_ is deprecated:\n",
      "\tadd_(Number alpha, Tensor other)\n",
      "Consider using one of the following signatures instead:\n",
      "\tadd_(Tensor other, *, Number alpha) (Triggered internally at  /pytorch/torch/csrc/utils/python_arg_parser.cpp:882.)\n",
      "  exp_avg_sq_row.mul_(beta2t).add_(1.0 - beta2t, update.mean(dim=-1))\n"
     ]
    },
    {
     "name": "stdout",
     "output_type": "stream",
     "text": [
      "\n"
     ]
    },
    {
     "name": "stderr",
     "output_type": "stream",
     "text": [
      "/home/meysam/anaconda3/lib/python3.8/site-packages/torch/optim/lr_scheduler.py:216: UserWarning: Please also save or load the state of the optimizer when saving or loading the scheduler.\n",
      "  warnings.warn(SAVE_STATE_WARNING, UserWarning)\n",
      "INFO:simpletransformers.t5.t5_utils: Creating features from dataset file at cache_dir/\n"
     ]
    },
    {
     "data": {
      "application/vnd.jupyter.widget-view+json": {
       "model_id": "37bc5359c47f47c8872b88b880bf1cce",
       "version_major": 2,
       "version_minor": 0
      },
      "text/plain": [
       "HBox(children=(FloatProgress(value=0.0, max=50.0), HTML(value='')))"
      ]
     },
     "metadata": {},
     "output_type": "display_data"
    },
    {
     "name": "stdout",
     "output_type": "stream",
     "text": [
      "\n",
      "\n"
     ]
    },
    {
     "name": "stderr",
     "output_type": "stream",
     "text": [
      "INFO:simpletransformers.t5.t5_model: Training of google/mt5-small model complete. Saved to outputs/.\n"
     ]
    },
    {
     "data": {
      "text/plain": [
       "(3,\n",
       " {'global_step': [3],\n",
       "  'eval_loss': [22.320918401082356],\n",
       "  'train_loss': [23.541107177734375]})"
      ]
     },
     "execution_count": 12,
     "metadata": {},
     "output_type": "execute_result"
    }
   ],
   "source": [
    "model.train_model(train_df, eval_data=eval_df)"
   ]
  },
  {
   "cell_type": "code",
   "execution_count": 13,
   "metadata": {},
   "outputs": [],
   "source": [
    "model_args = T5Args()\n",
    "model_args.max_length = 512\n",
    "model_args.length_penalty = 1\n",
    "model_args.num_beams = 10"
   ]
  },
  {
   "cell_type": "code",
   "execution_count": 14,
   "metadata": {},
   "outputs": [],
   "source": [
    "model = T5Model(\"mt5\", \"outputs\", args=model_args, use_cuda=False)"
   ]
  },
  {
   "cell_type": "code",
   "execution_count": null,
   "metadata": {},
   "outputs": [],
   "source": []
  }
 ],
 "metadata": {
  "kernelspec": {
   "display_name": "Python [conda env:root] *",
   "language": "python",
   "name": "conda-root-py"
  },
  "language_info": {
   "codemirror_mode": {
    "name": "ipython",
    "version": 3
   },
   "file_extension": ".py",
   "mimetype": "text/x-python",
   "name": "python",
   "nbconvert_exporter": "python",
   "pygments_lexer": "ipython3",
   "version": "3.8.3"
  }
 },
 "nbformat": 4,
 "nbformat_minor": 4
}
